{
 "cells": [
  {
   "cell_type": "markdown",
   "metadata": {},
   "source": [
    "# AIN 214 - PA2 - FALL 2023\n",
    "\n",
    "BELOW MD CELLS CONTAIN THE QUESTIONS YOU ARE ASKED TO IMPLEMENT WITHIN THE CONTEXT OF THIS HW. PLEASE FILL IN THE CELLS FOR THE ANSWERS RIGHT BELOW THE MD CELL OF THE QUESTION. YOU CAN ADD AS MANY CELLS AS YOU WANT, BE IT CODE OR MD, SO LONG AS YOU PROVIDE AN UNDERSTANDABLE AND TRACBLE REPORTING. PLEASE ADD COMMENTS ON YOUR CODES. ALSO, FILL IN MD CELLS WHERE YOU ARE ASKED YO COMMENT ON YOUR RESULTS OR EPXLAIN YOUR REASONING. ALSO, PLEASE DO NO HESITATE TO USE THEM FOR YOUR OWN REPORTING PURPOSES. PLEASE KEEP IN MIND THAT REPORTING IS A KEY STEP IN DATA SCIENCE.\n",
    "\n",
    "Deadline: 17.11.2023 (23:59:59)\n",
    "\n",
    "Submission: Submit your Jupyter Notebooks via https://submit.cs.hacettepe.edu.tr/"
   ]
  },
  {
   "cell_type": "markdown",
   "metadata": {},
   "source": [
    "# THE STUDENT INFO\n",
    "# Student Name: Bora Dere\n",
    "# Student ID: 2220765021"
   ]
  },
  {
   "cell_type": "code",
   "execution_count": 1,
   "metadata": {},
   "outputs": [],
   "source": [
    "# imports\n",
    "import pandas as pd\n",
    "import matplotlib.pyplot as plt\n",
    "from sqlite3 import connect\n",
    "import sqlite3\n",
    "import seaborn as sns\n",
    "import matplotlib.pyplot as plt"
   ]
  },
  {
   "cell_type": "markdown",
   "metadata": {},
   "source": [
    "# 1st SET OF QUESTIONS: Skyward Travel Agency Data Management Project\n",
    "\n",
    "Skyward is a premier travel agency aiming to provide seamless experiences for its clients. As business is booming, the agency has a myriad of data points to keep track of, and they need an efficient way to manage it all. Here's what they're dealing with:\n",
    "\n",
    "- **Clients' Database**: Skyward has a growing list of clients. For each client, they maintain records of their full name, contact email, and phone number. Every client is assigned a unique client ID for efficient tracking and personalized service.\n",
    "\n",
    "- **Airline Partnerships**: Skyward has collaborations with several airline companies, each identified by a unique airline ID. Beyond just names, they have comprehensive details of all the flights offered by these airline companies. This flight data includes flight numbers, associated airline IDs, departure cities, destinations, and dates of operation.\n",
    "\n",
    "- **Hotel Affiliations**: Skyward's clients need places to stay, leading to collaborations with multiple hotels. Each hotel is cataloged with a unique ID, alongside its name, geographical location, and a client feedback rating ranging from 1 to 5.\n",
    "\n",
    "- **Travel Bookings**: Skyward's primary service involves facilitating travel bookings. Every booking, be it for a flight or hotel, gets recorded. Flight bookings include the specific flight number, the client's ID making the booking, and the booking date. Hotel bookings aren't any different with records of the hotel ID, the client's ID, and the duration of stay (check-in and check-out dates).\n",
    "\n",
    "- **Feedback Mechanism**: Feedback drives Skyward's quality assurance. Clients are encouraged to leave reviews post their trips. For airlines, each review captures the client's ID, the reviewed airline's ID, and the feedback text. Hotel feedback mirrors this, substituting airlines for hotels.\n",
    "\n",
    "**Data Provision:**\n",
    "You are provided with unnormalized `feedback_details_df` and `bookings_df` datasets in the form of CSV files.\n",
    "\n",
    "**Your Task**:\n",
    "\n",
    "You should design your own DB schema meeting the above-stated constraints. There are multiple ways to design your tables; you only need to ensure that the design fits the outlined requirements. Begin by clearly defining your schema as tables. Once the schema is established, you will tackle a set of SQL tasks that will be provided separately. The SQL tasks will involve writing queries to extract, modify, or add data based on the designed schema. Good luck! \n",
    "\n",
    "**Note: Use sqite3 python package for DB**\n"
   ]
  },
  {
   "cell_type": "markdown",
   "metadata": {},
   "source": [
    "## Q1. Design your schema as tables. Draw the necessary tables with the appropriate attributes. State the primary keys, foreign keys (and their references). Create the tables in your schema in the database. (10 Points)\n",
    "\n",
    "There is no single soluion here, come up with your own design."
   ]
  },
  {
   "cell_type": "markdown",
   "metadata": {},
   "source": [
    "# Clients' Database: \n",
    "| Field         | Type/Constraints                           |\n",
    "|---------------|--------------------------------------------|\n",
    "| CustomerID     | PK, int                          |\n",
    "| CustomerName     | text                          |\n",
    "| CustomerEmail     | text                         |\n",
    "| CustomerPhone     | text                         |\n",
    "| CustomerID     | FK REFERENCING Airline Feedbacks, int                         |\n",
    "| CustomerID     | FK REFERENCING Hotel Feedbacks, int                           |\n",
    "\n",
    "# Hotels:\n",
    "| Field         | Type/Constraints                           |\n",
    "|---------------|--------------------------------------------|\n",
    "| HotelID     | PK, int                          |\n",
    "| HotelName     | text                          |\n",
    "| HotelLocation     | text                         |\n",
    "| HotelRating     | int                         |\n",
    "| HotelID     | FK REFERENCING Hotel Bookings, int                         |\n",
    "\n",
    "# Airline Partnerships:\n",
    "| Field         | Type/Constraints                           |\n",
    "|---------------|--------------------------------------------|\n",
    "| AirlineID     | PK, int                          |\n",
    "| FlightID     | int                          |\n",
    "| AirlineName     | text                         |\n",
    "| Flight_Departure     | text                         |\n",
    "| Flight_Destination     | text                        |\n",
    "| Flight_Date     | text                          |\n",
    "| FlightID     | FK REFERENCING Flight Bookings, int                           |\n",
    "\n",
    "# Flight Bookings:\n",
    "| Field         | Type/Constraints                           |\n",
    "|---------------|--------------------------------------------|\n",
    "| FlightID     | PK, int                          |\n",
    "| CustomerID     | int                          |\n",
    "| Flight_Date     | text                         |\n",
    "| CustomerID     | FK REFERENCING Clients, int                         |\n",
    "| CustomerID     | FK REFERENCING Airline Feedbacks, int                         |\n",
    "| CustomerID     | FK REFERENCING Hotel Feedbacks, int                           |\n",
    "\n",
    "# Hotel Bookings:\n",
    "| Field         | Type/Constraints                           |\n",
    "|---------------|--------------------------------------------|\n",
    "| HotelID     | PK, int                          |\n",
    "| CustomerID     | int                          |\n",
    "| CustomerID     | FK REFERENCING Hotels, int                           |\n",
    "| CustomerID     | FK REFERENCING Clients, int                         |\n",
    "| CustomerID     | FK REFERENCING Airline Feedbacks, int                         |\n",
    "| CustomerID     | FK REFERENCING Hotel Feedbacks, int                           |\n",
    "\n",
    "# Airline Feedbacks:\n",
    "| Field         | Type/Constraints                           |\n",
    "|---------------|--------------------------------------------|\n",
    "| CustomerID     | PK, int                          |\n",
    "| AirlineID     | int                          |\n",
    "| Review     | text                         |\n",
    "| CustomerID     | FK REFERENCING Clients, int                         |\n",
    "| CustomerID     | FK REFERENCING Airline Feedbacks, int                         |\n",
    "| CustomerID     | FK REFERENCING Hotel Feedbacks, int                           |\n",
    "\n",
    "# Hotel Feedbacks:\n",
    "| Field         | Type/Constraints                           |\n",
    "|---------------|--------------------------------------------|\n",
    "| CustomerID     | PK, int                          |\n",
    "| HotelID     | int                          |\n",
    "| Review     | text                         |\n",
    "| CustomerID     | FK REFERENCING Clients, int                         |\n",
    "| CustomerID     | FK REFERENCING Hotels, int                         |\n",
    "| CustomerID     | FK REFERENCING Airline Feedbacks, int                         |\n",
    "| CustomerID     | FK REFERENCING Hotel Bookings, int                           |"
   ]
  },
  {
   "cell_type": "markdown",
   "metadata": {},
   "source": [
    "# 1- Preparing Dataframes"
   ]
  },
  {
   "cell_type": "code",
   "execution_count": 2,
   "metadata": {},
   "outputs": [],
   "source": [
    "feedback_details = pd.read_csv('FeedbackDetails.csv')\n",
    "feedback_details_df = pd.DataFrame(feedback_details)\n",
    "\n",
    "bookings = pd.read_csv('BookingDetails.csv')\n",
    "bookings_df = pd.DataFrame(bookings)"
   ]
  },
  {
   "cell_type": "markdown",
   "metadata": {},
   "source": [
    "# 2- SQL Stuff"
   ]
  },
  {
   "cell_type": "code",
   "execution_count": 3,
   "metadata": {},
   "outputs": [],
   "source": [
    "conn = sqlite3.connect('skyward.sqlite')\n",
    "cursor = conn.cursor()"
   ]
  },
  {
   "cell_type": "markdown",
   "metadata": {},
   "source": [
    "# 3- Database Preparation"
   ]
  },
  {
   "cell_type": "markdown",
   "metadata": {},
   "source": [
    "## 3.1- Clients' DB\n",
    "- This database holds information of the exquisite clientele of Skyward. "
   ]
  },
  {
   "cell_type": "markdown",
   "metadata": {},
   "source": [
    "### 3.1.1- Clients DataFrame"
   ]
  },
  {
   "cell_type": "code",
   "execution_count": 4,
   "metadata": {},
   "outputs": [],
   "source": [
    "clients = bookings_df[['CustomerID', 'CustomerName', 'CustomerEmail', 'CustomerPhone']]\n",
    "clients = clients.drop_duplicates()"
   ]
  },
  {
   "cell_type": "markdown",
   "metadata": {},
   "source": [
    "### 3.1.2- Clients Table"
   ]
  },
  {
   "cell_type": "code",
   "execution_count": 5,
   "metadata": {},
   "outputs": [
    {
     "data": {
      "text/plain": [
       "500"
      ]
     },
     "execution_count": 5,
     "metadata": {},
     "output_type": "execute_result"
    }
   ],
   "source": [
    "cursor.execute(\"DROP TABLE IF EXISTS Clients\")\n",
    "\n",
    "cursor.execute('''\n",
    "        CREATE TABLE Clients (\n",
    "               CustomerID INTEGER PRIMARY KEY,\n",
    "               CustomerName TEXT,\n",
    "               CustomerEmail TEXT,\n",
    "               CustomerPhone TEXT,\n",
    "               FOREIGN KEY (CustomerID) REFERENCES 'Airline Feedbacks'(CustomerID),\n",
    "               FOREIGN KEY (CustomerID) REFERENCES 'Hotel Feedbacks'(CustomerID)\n",
    "        )\n",
    "''')\n",
    "\n",
    "clients.to_sql('Clients', conn, if_exists='replace', index=False)"
   ]
  },
  {
   "cell_type": "markdown",
   "metadata": {},
   "source": [
    "## 3.2- Hotel affiliations\n",
    "- This table is to easily organize the hotels that the clients are staying."
   ]
  },
  {
   "cell_type": "markdown",
   "metadata": {},
   "source": [
    "### 3.2.1- Hotels DataFrame"
   ]
  },
  {
   "cell_type": "code",
   "execution_count": 6,
   "metadata": {},
   "outputs": [],
   "source": [
    "hotels = bookings_df[['HotelID', 'HotelName', 'HotelLocation', 'HotelRating']]\n",
    "hotels = hotels.dropna()"
   ]
  },
  {
   "cell_type": "markdown",
   "metadata": {},
   "source": [
    "### 3.2.2- Hotels Table"
   ]
  },
  {
   "cell_type": "code",
   "execution_count": 7,
   "metadata": {},
   "outputs": [
    {
     "data": {
      "text/plain": [
       "488"
      ]
     },
     "execution_count": 7,
     "metadata": {},
     "output_type": "execute_result"
    }
   ],
   "source": [
    "cursor.execute(\"DROP TABLE IF EXISTS Hotels\")\n",
    "\n",
    "cursor.execute('''\n",
    "        CREATE TABLE Hotels (\n",
    "                HotelID INTEGER PRIMARY KEY,\n",
    "                HotelName TEXT,\n",
    "                HotelLocation TEXT,\n",
    "                HotelRating INTEGER,\n",
    "                FOREIGN KEY (HotelID) REFERENCES 'Hotel Bookings'(HotelID)\n",
    "        )\n",
    "''')\n",
    "\n",
    "hotels.to_sql('Hotels', conn, if_exists='replace', index=False)"
   ]
  },
  {
   "cell_type": "markdown",
   "metadata": {},
   "source": [
    "## 3.3- Airline Partnerships\n",
    "- To organize the huge collection of airline partnerships of Skyward Agency."
   ]
  },
  {
   "cell_type": "markdown",
   "metadata": {},
   "source": [
    "### 3.3.1- Airline Partnerships DataFrame"
   ]
  },
  {
   "cell_type": "code",
   "execution_count": 8,
   "metadata": {},
   "outputs": [],
   "source": [
    "ap = bookings_df[['AirlineID', 'FlightID', 'AirlineName', 'Flight_Departure', 'Flight_Destination', 'Flight_Date']]\n",
    "ap = ap.dropna()"
   ]
  },
  {
   "cell_type": "markdown",
   "metadata": {},
   "source": [
    "### 3.3.2- Airline Partnerships Table"
   ]
  },
  {
   "cell_type": "code",
   "execution_count": 9,
   "metadata": {},
   "outputs": [
    {
     "data": {
      "text/plain": [
       "508"
      ]
     },
     "execution_count": 9,
     "metadata": {},
     "output_type": "execute_result"
    }
   ],
   "source": [
    "cursor.execute(\"DROP TABLE IF EXISTS 'Airline Partnerships'\")\n",
    "\n",
    "cursor.execute('''\n",
    "        CREATE TABLE 'Airline Partnerships' (\n",
    "               AirlineID INTEGER PRIMARY KEY,\n",
    "               FlightID INTEGER,\n",
    "               AirlineName TEXT,\n",
    "               Flight_Departure TEXT,\n",
    "               Flight_Destination TEXT,\n",
    "               Flight_Date TEXT,\n",
    "               FOREIGN KEY (FlightID) REFERENCES 'Flight Bookings'(FlightID)\n",
    "        )\n",
    "''')\n",
    "\n",
    "ap.to_sql('Airline Partnerships', conn, if_exists='replace', index=False)"
   ]
  },
  {
   "cell_type": "markdown",
   "metadata": {},
   "source": [
    "## 3.4- Flight Bookings\n",
    "- A seperate table just for flight bookings. "
   ]
  },
  {
   "cell_type": "markdown",
   "metadata": {},
   "source": [
    "### 3.4.1- Flight Bookings DataFrame"
   ]
  },
  {
   "cell_type": "code",
   "execution_count": 10,
   "metadata": {},
   "outputs": [],
   "source": [
    "fb = bookings_df[['FlightID', 'CustomerID', 'Flight_Date']]\n",
    "fb = fb.dropna()"
   ]
  },
  {
   "cell_type": "markdown",
   "metadata": {},
   "source": [
    "### 3.4.2- Flight Bookings Table"
   ]
  },
  {
   "cell_type": "code",
   "execution_count": 11,
   "metadata": {},
   "outputs": [
    {
     "data": {
      "text/plain": [
       "508"
      ]
     },
     "execution_count": 11,
     "metadata": {},
     "output_type": "execute_result"
    }
   ],
   "source": [
    "cursor.execute(\"DROP TABLE IF EXISTS 'Flight Bookings'\")\n",
    "\n",
    "cursor.execute('''\n",
    "        CREATE TABLE 'Flight Bookings' (\n",
    "               FlightID INTEGER PRIMARY KEY,\n",
    "               CustomerID INTEGER,\n",
    "               Flight_Date TEXT,\n",
    "               FOREIGN KEY (CustomerID) REFERENCES Clients(CustomerID),\n",
    "               FOREIGN KEY (CustomerID) REFERENCES 'Airline Feedbacks'(CustomerID),\n",
    "               FOREIGN KEY (CustomerID) REFERENCES 'Hotel Feedbacks'(CustomerID)\n",
    "        )\n",
    "''')\n",
    "\n",
    "fb.to_sql('Flight Bookings', conn, if_exists='replace', index=False)"
   ]
  },
  {
   "cell_type": "markdown",
   "metadata": {},
   "source": [
    "## 3.5- Hotel Bookings\n",
    "- A seperate table just for hotel bookings. "
   ]
  },
  {
   "cell_type": "markdown",
   "metadata": {},
   "source": [
    "### 3.5.1- Hotel Bookings DataFrame"
   ]
  },
  {
   "cell_type": "code",
   "execution_count": 12,
   "metadata": {},
   "outputs": [],
   "source": [
    "hb = bookings_df[['HotelID', 'CustomerID']]\n",
    "hb = hb.dropna()"
   ]
  },
  {
   "cell_type": "markdown",
   "metadata": {},
   "source": [
    "### 3.5.2- Hotel Bookings Table"
   ]
  },
  {
   "cell_type": "code",
   "execution_count": 13,
   "metadata": {},
   "outputs": [
    {
     "data": {
      "text/plain": [
       "488"
      ]
     },
     "execution_count": 13,
     "metadata": {},
     "output_type": "execute_result"
    }
   ],
   "source": [
    "cursor.execute(\"DROP TABLE IF EXISTS 'Hotel Bookings'\")\n",
    "\n",
    "cursor.execute('''\n",
    "        CREATE TABLE 'Hotel Bookings' (\n",
    "               HotelID INTEGER PRIMARY KEY,\n",
    "               CustomerID INTEGER,\n",
    "               FOREIGN KEY (CustomerID) REFERENCES Clients(CustomerID),\n",
    "               FOREIGN KEY (HotelID) REFERENCES Hotels(HotelID),\n",
    "               FOREIGN KEY (CustomerID) REFERENCES 'Airline Feedbacks'(CustomerID),\n",
    "               FOREIGN KEY (CustomerID) REFERENCES 'Hotel Feedbacks'(CustomerID)\n",
    "        )\n",
    "''')\n",
    "\n",
    "hb.to_sql('Hotel Bookings', conn, if_exists='replace', index=False)"
   ]
  },
  {
   "cell_type": "markdown",
   "metadata": {},
   "source": [
    "## 3.6- Feedback Mechanism\n",
    "- Skyward Agency pays special attention to their client's feedback and tries to increase the quality of service. Therefore, feedback mechanism is greatly important."
   ]
  },
  {
   "cell_type": "markdown",
   "metadata": {},
   "source": [
    "### 3.6.1- Checking for duplicates in the CustomerID column.\n",
    "- If there are duplicates, it means there are some customers who gave feedback to both a hotel and an airline firm."
   ]
  },
  {
   "cell_type": "code",
   "execution_count": 14,
   "metadata": {},
   "outputs": [
    {
     "name": "stdout",
     "output_type": "stream",
     "text": [
      "There are 600 of customer records in the table but when the duplicates are dropped, there remains only 361.\n"
     ]
    }
   ],
   "source": [
    "temp = feedback_details_df[['CustomerID']]\n",
    "org_size = temp.size\n",
    "\n",
    "temp = temp.drop_duplicates()\n",
    "dups_dropped_size = temp.size\n",
    "\n",
    "print(f'There are {org_size} of customer records in the table but when the duplicates are dropped, there remains only {dups_dropped_size}.')"
   ]
  },
  {
   "cell_type": "markdown",
   "metadata": {},
   "source": [
    "> *There are 600 of customer records in the table but when the duplicates are dropped, there remains only 361.*\n",
    "\n",
    "So, seperating them into two different tables is more convenient."
   ]
  },
  {
   "cell_type": "markdown",
   "metadata": {},
   "source": [
    "### 3.6.2- Airline Feedbacks"
   ]
  },
  {
   "cell_type": "markdown",
   "metadata": {},
   "source": [
    "#### 3.6.2.1- Airline Feedbacks DataFrame"
   ]
  },
  {
   "cell_type": "code",
   "execution_count": 15,
   "metadata": {},
   "outputs": [],
   "source": [
    "af = feedback_details_df[['CustomerID', 'AirlineID', 'Review']]\n",
    "af = af.dropna()"
   ]
  },
  {
   "cell_type": "markdown",
   "metadata": {},
   "source": [
    "#### 3.6.2.2- Airline Feedbacks Table"
   ]
  },
  {
   "cell_type": "code",
   "execution_count": 16,
   "metadata": {},
   "outputs": [
    {
     "data": {
      "text/plain": [
       "300"
      ]
     },
     "execution_count": 16,
     "metadata": {},
     "output_type": "execute_result"
    }
   ],
   "source": [
    "cursor.execute(\"DROP TABLE IF EXISTS 'Airline Feedbacks'\")\n",
    "\n",
    "cursor.execute('''\n",
    "        CREATE TABLE 'Airline Feedbacks' (\n",
    "               CustomerID INTEGER PRIMARY KEY,\n",
    "               AirlineID INTEGER,\n",
    "               Review TEXT,\n",
    "               FOREIGN KEY (CustomerID) REFERENCES Clients(CustomerID),\n",
    "               FOREIGN KEY (AirlineID) REFERENCES 'Airline Partnerships'(AirlineID),\n",
    "               FOREIGN KEY (CustomerID) REFERENCES 'Hotel Feedbacks'(CustomerID)\n",
    "        )\n",
    "''')\n",
    "\n",
    "af.to_sql('Airline Feedbacks', conn, if_exists='replace', index=False)"
   ]
  },
  {
   "cell_type": "markdown",
   "metadata": {},
   "source": [
    "### 3.6.3- Hotel Feedbacks"
   ]
  },
  {
   "cell_type": "markdown",
   "metadata": {},
   "source": [
    "#### 3.6.3.1- Hotel Feedbacks DataFrame"
   ]
  },
  {
   "cell_type": "code",
   "execution_count": 17,
   "metadata": {},
   "outputs": [],
   "source": [
    "hf = feedback_details_df[['CustomerID', 'HotelID', 'Review']]\n",
    "hf = hf.dropna()"
   ]
  },
  {
   "cell_type": "markdown",
   "metadata": {},
   "source": [
    "#### 3.6.3.2- Hotel Feedbacks Table"
   ]
  },
  {
   "cell_type": "code",
   "execution_count": 18,
   "metadata": {},
   "outputs": [
    {
     "data": {
      "text/plain": [
       "300"
      ]
     },
     "execution_count": 18,
     "metadata": {},
     "output_type": "execute_result"
    }
   ],
   "source": [
    "cursor.execute(\"DROP TABLE IF EXISTS 'Hotel Feedbacks'\")\n",
    "\n",
    "cursor.execute('''\n",
    "        CREATE TABLE 'Hotel Feedbacks' (\n",
    "               CustomerID INTEGER PRIMARY KEY,\n",
    "               HotelID INTEGER,\n",
    "               Review TEXT,\n",
    "               FOREIGN KEY (CustomerID) REFERENCES Clients(CustomerID),\n",
    "               FOREIGN KEY (HotelID) REFERENCES Hotels(HotelID),\n",
    "               FOREIGN KEY (HotelID) REFERENCES 'Hotel Bookings'(HotelID),\n",
    "               FOREIGN KEY (CustomerID) REFERENCES 'Airline Feedbacks'(CustomerID)\n",
    "        )\n",
    "''')\n",
    "\n",
    "hf.to_sql('Hotel Feedbacks', conn, if_exists='replace', index=False)"
   ]
  },
  {
   "cell_type": "markdown",
   "metadata": {},
   "source": [
    "## Q2. Find the total number of bookings made for each hotel. Display the hotel name and the corresponding number of bookings. (10 Points)"
   ]
  },
  {
   "cell_type": "code",
   "execution_count": 19,
   "metadata": {},
   "outputs": [
    {
     "data": {
      "text/plain": [
       "[('Opal Inn', 4),\n",
       " ('Opal Motel', 4),\n",
       " ('Jade Motel', 5),\n",
       " ('Pearl Lodge', 5),\n",
       " ('Diamond Plaza', 6),\n",
       " ('Golden Resort', 6),\n",
       " ('Jade Suites', 6),\n",
       " ('Jade Suites', 7),\n",
       " ('Golden Retreat', 7),\n",
       " ('Pearl Motel', 7),\n",
       " ('Ruby Resort', 7),\n",
       " ('Silver Palace', 8),\n",
       " ('Sapphire Villa', 8),\n",
       " ('Pearl Hideaway', 8),\n",
       " ('Ruby Hideaway', 8),\n",
       " ('Ruby Plaza', 8),\n",
       " ('Ruby Palace', 8),\n",
       " ('Pearl Plaza', 8),\n",
       " ('Golden Lodge', 8),\n",
       " ('Golden Plaza', 8),\n",
       " ('Emerald Resort', 9),\n",
       " ('Opal Suites', 9),\n",
       " ('Jade Lodge', 9),\n",
       " ('Golden Hideaway', 9),\n",
       " ('Jade Retreat', 9),\n",
       " ('Silver Villa', 10),\n",
       " ('Diamond Villa', 10),\n",
       " ('Opal Plaza', 10),\n",
       " ('Jade Suites', 10),\n",
       " ('Sapphire Hideaway', 10),\n",
       " ('Diamond Suites', 10),\n",
       " ('Golden Villa', 10),\n",
       " ('Opal Motel', 11),\n",
       " ('Jade Resort', 11),\n",
       " ('Crystal Motel', 11),\n",
       " ('Sapphire Suites', 11),\n",
       " ('Silver Hideaway', 11),\n",
       " ('Pearl Resort', 12),\n",
       " ('Golden Resort', 12),\n",
       " ('Sapphire Motel', 12),\n",
       " ('Sapphire Villa', 14),\n",
       " ('Golden Inn', 14),\n",
       " ('Diamond Inn', 14),\n",
       " ('Diamond Inn', 14),\n",
       " ('Emerald Palace', 14),\n",
       " ('Emerald Motel', 15),\n",
       " ('Silver Resort', 15),\n",
       " ('Diamond Resort', 15),\n",
       " ('Diamond Inn', 15),\n",
       " ('Golden Suites', 16)]"
      ]
     },
     "execution_count": 19,
     "metadata": {},
     "output_type": "execute_result"
    }
   ],
   "source": [
    "query = \"\"\"\n",
    "SELECT HotelName, COUNT(HotelName)\n",
    "FROM Hotels\n",
    "GROUP BY HotelID\n",
    "ORDER BY COUNT(HotelName)\n",
    "\"\"\"\n",
    "\n",
    "cursor.execute(query)\n",
    "cursor.fetchall()"
   ]
  },
  {
   "cell_type": "markdown",
   "metadata": {},
   "source": [
    "## Q3. Retrieve the name and contact details of clients who have provided feedback for both flights and hotels. Ensure there are no duplicate entries in your result. (10 Points)\n"
   ]
  },
  {
   "cell_type": "code",
   "execution_count": 20,
   "metadata": {},
   "outputs": [
    {
     "data": {
      "text/plain": [
       "[('Ethan Martinez', 'ethan.martinez@mail.com', '555-3339628'),\n",
       " ('Sophia Davis', 'sophia.davis@mail.com', '555-7585879'),\n",
       " ('Liam Miller', 'liam.miller@mail.com', '555-3750839'),\n",
       " ('Mason Brown', 'mason.brown@mail.com', '555-4291570'),\n",
       " ('Ethan Smith', 'ethan.smith@mail.com', '555-4014268'),\n",
       " ('Olivia Martinez', 'olivia.martinez@mail.com', '555-3255322'),\n",
       " ('Liam Brown', 'liam.brown@mail.com', '555-3328325'),\n",
       " ('Olivia Miller', 'olivia.miller@mail.com', '555-7935514'),\n",
       " ('Ethan Rodriguez', 'ethan.rodriguez@mail.com', '555-7714590'),\n",
       " ('Liam Martinez', 'liam.martinez@mail.com', '555-3004787'),\n",
       " ('Mason Brown', 'mason.brown@mail.com', '555-0826096'),\n",
       " ('Ethan Miller', 'ethan.miller@mail.com', '555-7366655'),\n",
       " ('Mia Williams', 'mia.williams@mail.com', '555-4798996'),\n",
       " ('John Smith', 'john.smith@mail.com', '555-3493476'),\n",
       " ('Emma Smith', 'emma.smith@mail.com', '555-0707146'),\n",
       " ('Mason Brown', 'mason.brown@mail.com', '555-3196635'),\n",
       " ('John Davis', 'john.davis@mail.com', '555-5153122'),\n",
       " ('Olivia Rodriguez', 'olivia.rodriguez@mail.com', '555-1943374'),\n",
       " ('Emma Davis', 'emma.davis@mail.com', '555-8584852'),\n",
       " ('Ava Williams', 'ava.williams@mail.com', '555-1519142'),\n",
       " ('John Johnson', 'john.johnson@mail.com', '555-8621989'),\n",
       " ('Ava Smith', 'ava.smith@mail.com', '555-8868423'),\n",
       " ('Ava Williams', 'ava.williams@mail.com', '555-0306340'),\n",
       " ('Sophia Garcia', 'sophia.garcia@mail.com', '555-4477984'),\n",
       " ('Liam Johnson', 'liam.johnson@mail.com', '555-5991579'),\n",
       " ('Sophia Brown', 'sophia.brown@mail.com', '555-0699775'),\n",
       " ('Logan Brown', 'logan.brown@mail.com', '555-8853740'),\n",
       " ('John Smith', 'john.smith@mail.com', '555-3616974'),\n",
       " ('Ethan Jones', 'ethan.jones@mail.com', '555-0003961'),\n",
       " ('Olivia Martinez', 'olivia.martinez@mail.com', '555-1094118'),\n",
       " ('Emma Garcia', 'emma.garcia@mail.com', '555-3832976'),\n",
       " ('Sophia Johnson', 'sophia.johnson@mail.com', '555-2448547'),\n",
       " ('Ethan Rodriguez', 'ethan.rodriguez@mail.com', '555-5969914'),\n",
       " ('John Brown', 'john.brown@mail.com', '555-5988133'),\n",
       " ('Sophia Garcia', 'sophia.garcia@mail.com', '555-6778980'),\n",
       " ('Ava Miller', 'ava.miller@mail.com', '555-0921939'),\n",
       " ('Ava Rodriguez', 'ava.rodriguez@mail.com', '555-1763037'),\n",
       " ('Mia Johnson', 'mia.johnson@mail.com', '555-8471012'),\n",
       " ('Mason Jones', 'mason.jones@mail.com', '555-9859933'),\n",
       " ('Olivia Williams', 'olivia.williams@mail.com', '555-0780377'),\n",
       " ('Mason Miller', 'mason.miller@mail.com', '555-8706942'),\n",
       " ('John Williams', 'john.williams@mail.com', '555-9373187'),\n",
       " ('Mia Smith', 'mia.smith@mail.com', '555-2197055'),\n",
       " ('Mia Martinez', 'mia.martinez@mail.com', '555-0308937'),\n",
       " ('Ethan Smith', 'ethan.smith@mail.com', '555-1189744'),\n",
       " ('Emma Brown', 'emma.brown@mail.com', '555-7136775'),\n",
       " ('Mia Davis', 'mia.davis@mail.com', '555-4185374'),\n",
       " ('Olivia Miller', 'olivia.miller@mail.com', '555-6375667'),\n",
       " ('Liam Jones', 'liam.jones@mail.com', '555-3294076'),\n",
       " ('Olivia Johnson', 'olivia.johnson@mail.com', '555-8142328'),\n",
       " ('Mia Miller', 'mia.miller@mail.com', '555-2636922'),\n",
       " ('Mia Rodriguez', 'mia.rodriguez@mail.com', '555-3597936'),\n",
       " ('Logan Brown', 'logan.brown@mail.com', '555-6902160'),\n",
       " ('Sophia Garcia', 'sophia.garcia@mail.com', '555-1797618'),\n",
       " ('Logan Johnson', 'logan.johnson@mail.com', '555-0898213'),\n",
       " ('Liam Brown', 'liam.brown@mail.com', '555-1772445'),\n",
       " ('Logan Garcia', 'logan.garcia@mail.com', '555-8723852'),\n",
       " ('Olivia Martinez', 'olivia.martinez@mail.com', '555-1759381'),\n",
       " ('Mia Jones', 'mia.jones@mail.com', '555-3274877'),\n",
       " ('Mason Jones', 'mason.jones@mail.com', '555-0497376'),\n",
       " ('Sophia Martinez', 'sophia.martinez@mail.com', '555-0293096'),\n",
       " ('Liam Davis', 'liam.davis@mail.com', '555-8686220'),\n",
       " ('Mason Miller', 'mason.miller@mail.com', '555-8064585'),\n",
       " ('Olivia Miller', 'olivia.miller@mail.com', '555-8743718'),\n",
       " ('Mason Martinez', 'mason.martinez@mail.com', '555-4087377'),\n",
       " ('Ava Rodriguez', 'ava.rodriguez@mail.com', '555-0302814'),\n",
       " ('Liam Brown', 'liam.brown@mail.com', '555-0166595'),\n",
       " ('Liam Davis', 'liam.davis@mail.com', '555-9816387'),\n",
       " ('Ava Jones', 'ava.jones@mail.com', '555-2606180'),\n",
       " ('Emma Miller', 'emma.miller@mail.com', '555-9672748'),\n",
       " ('Olivia Garcia', 'olivia.garcia@mail.com', '555-0514945'),\n",
       " ('Logan Johnson', 'logan.johnson@mail.com', '555-5232222'),\n",
       " ('Sophia Johnson', 'sophia.johnson@mail.com', '555-8333408'),\n",
       " ('Logan Garcia', 'logan.garcia@mail.com', '555-1786594'),\n",
       " ('Ava Smith', 'ava.smith@mail.com', '555-4286562'),\n",
       " ('John Smith', 'john.smith@mail.com', '555-5329141'),\n",
       " ('Mason Brown', 'mason.brown@mail.com', '555-7018305'),\n",
       " ('Ethan Davis', 'ethan.davis@mail.com', '555-0282897'),\n",
       " ('Sophia Jones', 'sophia.jones@mail.com', '555-5176700'),\n",
       " ('Liam Davis', 'liam.davis@mail.com', '555-2949165'),\n",
       " ('Sophia Rodriguez', 'sophia.rodriguez@mail.com', '555-7717570'),\n",
       " ('Mason Brown', 'mason.brown@mail.com', '555-0258878'),\n",
       " ('Ava Davis', 'ava.davis@mail.com', '555-4376898'),\n",
       " ('John Smith', 'john.smith@mail.com', '555-4394283'),\n",
       " ('Mia Miller', 'mia.miller@mail.com', '555-8785693'),\n",
       " ('Mason Jones', 'mason.jones@mail.com', '555-1751791'),\n",
       " ('Mia Williams', 'mia.williams@mail.com', '555-6569856'),\n",
       " ('Mason Davis', 'mason.davis@mail.com', '555-6250499'),\n",
       " ('Ava Garcia', 'ava.garcia@mail.com', '555-3577079'),\n",
       " ('Logan Miller', 'logan.miller@mail.com', '555-2271807'),\n",
       " ('Logan Williams', 'logan.williams@mail.com', '555-2061905'),\n",
       " ('Ava Williams', 'ava.williams@mail.com', '555-8246125'),\n",
       " ('Liam Williams', 'liam.williams@mail.com', '555-9372149'),\n",
       " ('Ava Brown', 'ava.brown@mail.com', '555-5172056'),\n",
       " ('Olivia Williams', 'olivia.williams@mail.com', '555-0618229'),\n",
       " ('Mason Smith', 'mason.smith@mail.com', '555-9287719'),\n",
       " ('Emma Miller', 'emma.miller@mail.com', '555-4005422'),\n",
       " ('Emma Williams', 'emma.williams@mail.com', '555-8283458'),\n",
       " ('Sophia Smith', 'sophia.smith@mail.com', '555-3170326'),\n",
       " ('Olivia Davis', 'olivia.davis@mail.com', '555-7937883'),\n",
       " ('Mason Brown', 'mason.brown@mail.com', '555-5765623'),\n",
       " ('John Martinez', 'john.martinez@mail.com', '555-1201810'),\n",
       " ('John Johnson', 'john.johnson@mail.com', '555-3857295'),\n",
       " ('Ethan Smith', 'ethan.smith@mail.com', '555-9454338'),\n",
       " ('Logan Martinez', 'logan.martinez@mail.com', '555-6346303'),\n",
       " ('Liam Brown', 'liam.brown@mail.com', '555-5183574'),\n",
       " ('Ethan Rodriguez', 'ethan.rodriguez@mail.com', '555-5432713'),\n",
       " ('Olivia Davis', 'olivia.davis@mail.com', '555-6970002'),\n",
       " ('Logan Martinez', 'logan.martinez@mail.com', '555-6781352')]"
      ]
     },
     "execution_count": 20,
     "metadata": {},
     "output_type": "execute_result"
    }
   ],
   "source": [
    "query = \"\"\"\n",
    "SELECT CustomerName, CustomerEmail, CustomerPhone\n",
    "FROM Clients\n",
    "WHERE CustomerID IN (SELECT CustomerID FROM 'Airline Feedbacks') AND CustomerID IN (SELECT CustomerID FROM 'Hotel Feedbacks')\n",
    "\"\"\"\n",
    "\n",
    "cursor.execute(query)\n",
    "result = cursor.fetchall()\n",
    "result"
   ]
  },
  {
   "cell_type": "markdown",
   "metadata": {},
   "source": [
    "To ensure that there are no duplicates, we can remove the duplicates from the list *result* and then check if its length changes."
   ]
  },
  {
   "cell_type": "code",
   "execution_count": 21,
   "metadata": {},
   "outputs": [
    {
     "name": "stdout",
     "output_type": "stream",
     "text": [
      "True\n"
     ]
    }
   ],
   "source": [
    "l_size = len(result)\n",
    "\n",
    "# Since converting a list to a set removes duplicates\n",
    "\n",
    "s_size = len(set(result))\n",
    "\n",
    "print(s_size == l_size)"
   ]
  },
  {
   "cell_type": "markdown",
   "metadata": {},
   "source": [
    ">  *True*\n",
    "\n",
    "So, we can be assured that there are no duplicates."
   ]
  },
  {
   "cell_type": "markdown",
   "metadata": {},
   "source": [
    "## Q4. Identify hotels that have a feedback rating lower than the average feedback rating across all hotels. List their names and ratings. (10 Points)\n"
   ]
  },
  {
   "cell_type": "code",
   "execution_count": 22,
   "metadata": {},
   "outputs": [
    {
     "data": {
      "text/plain": [
       "[('Pearl Resort', 2.0),\n",
       " ('Golden Resort', 3.0),\n",
       " ('Ruby Palace', 1.0),\n",
       " ('Golden Resort', 1.0),\n",
       " ('Golden Villa', 3.0),\n",
       " ('Sapphire Suites', 2.0),\n",
       " ('Opal Plaza', 2.0),\n",
       " ('Diamond Plaza', 2.0),\n",
       " ('Diamond Inn', 2.0),\n",
       " ('Golden Hideaway', 3.0),\n",
       " ('Golden Resort', 1.0),\n",
       " ('Jade Resort', 2.0),\n",
       " ('Golden Inn', 3.0),\n",
       " ('Golden Lodge', 2.0),\n",
       " ('Opal Plaza', 2.0),\n",
       " ('Jade Motel', 2.0),\n",
       " ('Jade Resort', 2.0),\n",
       " ('Golden Inn', 3.0),\n",
       " ('Golden Villa', 3.0),\n",
       " ('Sapphire Villa', 2.0),\n",
       " ('Opal Plaza', 2.0),\n",
       " ('Opal Suites', 1.0),\n",
       " ('Opal Inn', 1.0),\n",
       " ('Pearl Lodge', 1.0),\n",
       " ('Golden Inn', 3.0),\n",
       " ('Golden Resort', 3.0),\n",
       " ('Sapphire Suites', 2.0),\n",
       " ('Pearl Lodge', 1.0),\n",
       " ('Pearl Plaza', 2.0),\n",
       " ('Golden Inn', 3.0),\n",
       " ('Golden Hideaway', 3.0),\n",
       " ('Opal Suites', 1.0),\n",
       " ('Opal Plaza', 2.0),\n",
       " ('Emerald Resort', 3.0),\n",
       " ('Sapphire Villa', 2.0),\n",
       " ('Silver Palace', 2.0),\n",
       " ('Golden Resort', 1.0),\n",
       " ('Jade Resort', 2.0),\n",
       " ('Pearl Hideaway', 1.0),\n",
       " ('Golden Villa', 3.0),\n",
       " ('Diamond Plaza', 2.0),\n",
       " ('Golden Resort', 1.0),\n",
       " ('Diamond Inn', 2.0),\n",
       " ('Golden Villa', 3.0),\n",
       " ('Diamond Plaza', 2.0),\n",
       " ('Pearl Hideaway', 1.0),\n",
       " ('Diamond Plaza', 2.0),\n",
       " ('Pearl Hideaway', 1.0),\n",
       " ('Golden Hideaway', 3.0),\n",
       " ('Emerald Resort', 3.0),\n",
       " ('Opal Motel', 1.0),\n",
       " ('Sapphire Suites', 2.0),\n",
       " ('Opal Suites', 1.0),\n",
       " ('Diamond Plaza', 2.0),\n",
       " ('Emerald Resort', 3.0),\n",
       " ('Golden Inn', 3.0),\n",
       " ('Sapphire Suites', 2.0),\n",
       " ('Jade Resort', 2.0),\n",
       " ('Jade Resort', 2.0),\n",
       " ('Pearl Hideaway', 1.0),\n",
       " ('Diamond Inn', 2.0),\n",
       " ('Sapphire Suites', 2.0),\n",
       " ('Golden Lodge', 2.0),\n",
       " ('Pearl Resort', 2.0),\n",
       " ('Golden Lodge', 2.0),\n",
       " ('Opal Suites', 1.0),\n",
       " ('Golden Inn', 3.0),\n",
       " ('Silver Palace', 2.0),\n",
       " ('Opal Motel', 1.0),\n",
       " ('Diamond Plaza', 2.0),\n",
       " ('Golden Resort', 3.0),\n",
       " ('Golden Villa', 3.0),\n",
       " ('Diamond Inn', 2.0),\n",
       " ('Golden Inn', 3.0),\n",
       " ('Opal Plaza', 2.0),\n",
       " ('Jade Resort', 2.0),\n",
       " ('Sapphire Villa', 2.0),\n",
       " ('Jade Motel', 2.0),\n",
       " ('Ruby Resort', 3.0),\n",
       " ('Ruby Resort', 3.0),\n",
       " ('Golden Lodge', 2.0),\n",
       " ('Ruby Resort', 3.0),\n",
       " ('Golden Plaza', 2.0),\n",
       " ('Pearl Resort', 2.0),\n",
       " ('Golden Lodge', 2.0),\n",
       " ('Ruby Resort', 3.0),\n",
       " ('Jade Resort', 2.0),\n",
       " ('Golden Hideaway', 3.0),\n",
       " ('Opal Suites', 1.0),\n",
       " ('Golden Hideaway', 3.0),\n",
       " ('Ruby Resort', 3.0),\n",
       " ('Emerald Resort', 3.0),\n",
       " ('Golden Inn', 3.0),\n",
       " ('Opal Motel', 1.0),\n",
       " ('Opal Motel', 2.0),\n",
       " ('Pearl Resort', 2.0),\n",
       " ('Sapphire Suites', 2.0),\n",
       " ('Sapphire Villa', 2.0),\n",
       " ('Silver Palace', 2.0),\n",
       " ('Golden Plaza', 2.0),\n",
       " ('Sapphire Suites', 2.0),\n",
       " ('Emerald Resort', 3.0),\n",
       " ('Golden Villa', 3.0),\n",
       " ('Jade Resort', 2.0),\n",
       " ('Golden Plaza', 2.0),\n",
       " ('Pearl Motel', 3.0),\n",
       " ('Golden Resort', 3.0),\n",
       " ('Silver Palace', 2.0),\n",
       " ('Pearl Motel', 3.0),\n",
       " ('Opal Suites', 1.0),\n",
       " ('Pearl Resort', 2.0),\n",
       " ('Golden Lodge', 2.0),\n",
       " ('Golden Inn', 3.0),\n",
       " ('Pearl Resort', 2.0),\n",
       " ('Sapphire Villa', 2.0),\n",
       " ('Opal Suites', 1.0),\n",
       " ('Silver Palace', 2.0),\n",
       " ('Sapphire Villa', 2.0),\n",
       " ('Sapphire Suites', 2.0),\n",
       " ('Pearl Plaza', 2.0),\n",
       " ('Diamond Inn', 2.0),\n",
       " ('Ruby Palace', 1.0),\n",
       " ('Golden Resort', 1.0),\n",
       " ('Golden Resort', 3.0),\n",
       " ('Silver Palace', 2.0),\n",
       " ('Ruby Palace', 1.0),\n",
       " ('Diamond Inn', 2.0),\n",
       " ('Opal Plaza', 2.0),\n",
       " ('Diamond Inn', 2.0),\n",
       " ('Pearl Plaza', 2.0),\n",
       " ('Opal Plaza', 2.0),\n",
       " ('Emerald Resort', 3.0),\n",
       " ('Golden Resort', 1.0),\n",
       " ('Ruby Palace', 1.0),\n",
       " ('Ruby Palace', 1.0),\n",
       " ('Opal Motel', 2.0),\n",
       " ('Diamond Inn', 2.0),\n",
       " ('Golden Inn', 3.0),\n",
       " ('Sapphire Villa', 2.0),\n",
       " ('Pearl Resort', 2.0),\n",
       " ('Pearl Hideaway', 1.0),\n",
       " ('Opal Motel', 2.0),\n",
       " ('Pearl Resort', 2.0),\n",
       " ('Sapphire Villa', 2.0),\n",
       " ('Diamond Inn', 2.0),\n",
       " ('Pearl Plaza', 2.0),\n",
       " ('Sapphire Suites', 2.0),\n",
       " ('Emerald Resort', 3.0),\n",
       " ('Golden Plaza', 2.0),\n",
       " ('Golden Inn', 3.0),\n",
       " ('Pearl Plaza', 2.0),\n",
       " ('Jade Motel', 2.0),\n",
       " ('Sapphire Villa', 2.0),\n",
       " ('Golden Lodge', 2.0),\n",
       " ('Golden Hideaway', 3.0),\n",
       " ('Ruby Resort', 3.0),\n",
       " ('Golden Plaza', 2.0),\n",
       " ('Jade Motel', 2.0),\n",
       " ('Golden Resort', 3.0),\n",
       " ('Jade Resort', 2.0),\n",
       " ('Golden Resort', 1.0),\n",
       " ('Ruby Palace', 1.0),\n",
       " ('Sapphire Suites', 2.0),\n",
       " ('Pearl Hideaway', 1.0),\n",
       " ('Golden Inn', 3.0),\n",
       " ('Golden Villa', 3.0),\n",
       " ('Opal Motel', 2.0),\n",
       " ('Silver Palace', 2.0),\n",
       " ('Opal Motel', 2.0),\n",
       " ('Pearl Motel', 3.0),\n",
       " ('Ruby Resort', 3.0),\n",
       " ('Golden Resort', 1.0),\n",
       " ('Pearl Lodge', 1.0),\n",
       " ('Opal Inn', 1.0),\n",
       " ('Golden Hideaway', 3.0),\n",
       " ('Opal Suites', 1.0),\n",
       " ('Pearl Motel', 3.0),\n",
       " ('Pearl Motel', 3.0),\n",
       " ('Jade Resort', 2.0),\n",
       " ('Silver Palace', 2.0),\n",
       " ('Sapphire Villa', 2.0),\n",
       " ('Diamond Inn', 2.0),\n",
       " ('Pearl Hideaway', 1.0),\n",
       " ('Opal Suites', 1.0),\n",
       " ('Ruby Palace', 1.0),\n",
       " ('Jade Resort', 2.0),\n",
       " ('Opal Motel', 2.0),\n",
       " ('Opal Motel', 2.0),\n",
       " ('Sapphire Villa', 2.0),\n",
       " ('Golden Villa', 3.0),\n",
       " ('Opal Motel', 2.0),\n",
       " ('Opal Plaza', 2.0),\n",
       " ('Golden Villa', 3.0),\n",
       " ('Opal Inn', 1.0),\n",
       " ('Golden Plaza', 2.0),\n",
       " ('Diamond Inn', 2.0),\n",
       " ('Golden Resort', 1.0),\n",
       " ('Pearl Resort', 2.0),\n",
       " ('Diamond Inn', 2.0),\n",
       " ('Golden Plaza', 2.0),\n",
       " ('Golden Inn', 3.0),\n",
       " ('Sapphire Suites', 2.0),\n",
       " ('Pearl Lodge', 1.0),\n",
       " ('Pearl Plaza', 2.0),\n",
       " ('Sapphire Villa', 2.0),\n",
       " ('Opal Motel', 2.0),\n",
       " ('Opal Motel', 2.0),\n",
       " ('Jade Motel', 2.0),\n",
       " ('Pearl Hideaway', 1.0),\n",
       " ('Golden Inn', 3.0),\n",
       " ('Emerald Resort', 3.0),\n",
       " ('Pearl Plaza', 2.0),\n",
       " ('Sapphire Villa', 2.0),\n",
       " ('Sapphire Villa', 2.0),\n",
       " ('Pearl Resort', 2.0),\n",
       " ('Opal Inn', 1.0),\n",
       " ('Golden Resort', 1.0),\n",
       " ('Pearl Resort', 2.0),\n",
       " ('Pearl Plaza', 2.0),\n",
       " ('Golden Hideaway', 3.0),\n",
       " ('Golden Villa', 3.0),\n",
       " ('Golden Plaza', 2.0),\n",
       " ('Pearl Lodge', 1.0),\n",
       " ('Opal Motel', 2.0),\n",
       " ('Golden Resort', 1.0),\n",
       " ('Ruby Palace', 1.0),\n",
       " ('Golden Hideaway', 3.0),\n",
       " ('Pearl Motel', 3.0),\n",
       " ('Emerald Resort', 3.0),\n",
       " ('Pearl Motel', 3.0),\n",
       " ('Opal Plaza', 2.0),\n",
       " ('Pearl Resort', 2.0),\n",
       " ('Golden Lodge', 2.0),\n",
       " ('Opal Motel', 1.0),\n",
       " ('Opal Plaza', 2.0),\n",
       " ('Diamond Inn', 2.0),\n",
       " ('Diamond Inn', 2.0),\n",
       " ('Golden Resort', 1.0)]"
      ]
     },
     "execution_count": 22,
     "metadata": {},
     "output_type": "execute_result"
    }
   ],
   "source": [
    "query = \"\"\"\n",
    "SELECT HotelName, HotelRating\n",
    "FROM Hotels\n",
    "WHERE HotelRating < (SELECT AVG(HotelRating) FROM Hotels)\n",
    "\"\"\"\n",
    "\n",
    "cursor.execute(query)\n",
    "cursor.fetchall()"
   ]
  },
  {
   "cell_type": "markdown",
   "metadata": {},
   "source": [
    "## Q5. Find clients who have stayed in at least three different hotels and flown with at least two different airlines. Display their names and total number of bookings. (10 Points)\n"
   ]
  },
  {
   "cell_type": "code",
   "execution_count": 23,
   "metadata": {},
   "outputs": [
    {
     "data": {
      "text/plain": [
       "[]"
      ]
     },
     "execution_count": 23,
     "metadata": {},
     "output_type": "execute_result"
    }
   ],
   "source": [
    "query = \"\"\"\n",
    "SELECT CustomerName\n",
    "FROM Clients\n",
    "WHERE CustomerID = (SELECT CustomerID \n",
    "                    FROM 'Flight Bookings' \n",
    "                    GROUP BY CustomerID\n",
    "                    HAVING COUNT(DISTINCT FlightID) >= 2) AND\n",
    "      CustomerID = (SELECT CustomerID\n",
    "                    FROM 'Hotel Bookings' \n",
    "                    GROUP BY CustomerID\n",
    "                    HAVING COUNT(DISTINCT HotelID) >= 3)\n",
    "\"\"\"\n",
    "\n",
    "cursor.execute(query)\n",
    "cursor.fetchall()"
   ]
  },
  {
   "cell_type": "markdown",
   "metadata": {},
   "source": [
    "## Q6 - **Bonus/Challenge**: Do the same in Q3 without using the keywords: \"HAVING\" and \"GROUP BY\". Make a comparison on the two processes (one using the aggregate operators and this) "
   ]
  },
  {
   "cell_type": "code",
   "execution_count": 24,
   "metadata": {},
   "outputs": [],
   "source": [
    "# :)"
   ]
  },
  {
   "cell_type": "markdown",
   "metadata": {},
   "source": [
    "# 2nd SET OF QUESTIONS: DATA ANALYSIS WITH VISUALIZATION TOOLS\n",
    "\n",
    "In the 2nd part of this hw, you are to deal with the famous dataset of Titanic [1]. Answer the following questions, using visualization tools, and comment on your work."
   ]
  },
  {
   "cell_type": "markdown",
   "metadata": {},
   "source": [
    "## Q1. Read the Titanic dataset into a DataFrame. Using a pivot table, analyze the survival rate by gender and class.\n"
   ]
  },
  {
   "cell_type": "code",
   "execution_count": 25,
   "metadata": {},
   "outputs": [],
   "source": [
    "titanic = pd.read_csv('titanic.csv')\n",
    "titanic_df = pd.DataFrame(titanic)"
   ]
  },
  {
   "cell_type": "code",
   "execution_count": 26,
   "metadata": {},
   "outputs": [
    {
     "data": {
      "text/html": [
       "<div>\n",
       "<style scoped>\n",
       "    .dataframe tbody tr th:only-of-type {\n",
       "        vertical-align: middle;\n",
       "    }\n",
       "\n",
       "    .dataframe tbody tr th {\n",
       "        vertical-align: top;\n",
       "    }\n",
       "\n",
       "    .dataframe thead th {\n",
       "        text-align: right;\n",
       "    }\n",
       "</style>\n",
       "<table border=\"1\" class=\"dataframe\">\n",
       "  <thead>\n",
       "    <tr style=\"text-align: right;\">\n",
       "      <th>Sex</th>\n",
       "      <th>female</th>\n",
       "      <th>male</th>\n",
       "    </tr>\n",
       "    <tr>\n",
       "      <th>Pclass</th>\n",
       "      <th></th>\n",
       "      <th></th>\n",
       "    </tr>\n",
       "  </thead>\n",
       "  <tbody>\n",
       "    <tr>\n",
       "      <th>1</th>\n",
       "      <td>0.97</td>\n",
       "      <td>0.37</td>\n",
       "    </tr>\n",
       "    <tr>\n",
       "      <th>2</th>\n",
       "      <td>0.92</td>\n",
       "      <td>0.16</td>\n",
       "    </tr>\n",
       "    <tr>\n",
       "      <th>3</th>\n",
       "      <td>0.50</td>\n",
       "      <td>0.14</td>\n",
       "    </tr>\n",
       "  </tbody>\n",
       "</table>\n",
       "</div>"
      ],
      "text/plain": [
       "Sex     female  male\n",
       "Pclass              \n",
       "1         0.97  0.37\n",
       "2         0.92  0.16\n",
       "3         0.50  0.14"
      ]
     },
     "execution_count": 26,
     "metadata": {},
     "output_type": "execute_result"
    }
   ],
   "source": [
    "survival = titanic_df.groupby(['Pclass', 'Sex'])['Survived']\n",
    "survival = survival.agg(['mean']).round(2)\n",
    "survival = pd.DataFrame(survival)\n",
    "\n",
    "pd.pivot_table(survival, values='mean', index='Pclass', columns='Sex')"
   ]
  },
  {
   "cell_type": "markdown",
   "metadata": {},
   "source": [
    "As observed, women have a drastically better rate of survival. There may be several reasons to that. If the women population was extremely small compared to the men population, then that kind of an asymmetric distribution may be the cause of that. Or women just might be more prioritized, along the kids. Also ve observe that the survival rate increases as the class gets better. That may be caused by the services and the opportunities getting better and better as the class increases."
   ]
  },
  {
   "cell_type": "markdown",
   "metadata": {},
   "source": [
    "## Q2. Create a histogram showcasing the age distribution of passengers. Overlay this with a KDE plot. Comment on the most common age group aboard the Titanic.\n"
   ]
  },
  {
   "cell_type": "code",
   "execution_count": 27,
   "metadata": {},
   "outputs": [
    {
     "data": {
      "text/plain": [
       "<AxesSubplot: xlabel='Age', ylabel='Count'>"
      ]
     },
     "execution_count": 27,
     "metadata": {},
     "output_type": "execute_result"
    },
    {
     "data": {
      "image/png": "[encoded data removed]",
      "text/plain": [
       "<Figure size 640x480 with 1 Axes>"
      ]
     },
     "metadata": {},
     "output_type": "display_data"
    }
   ],
   "source": [
    "sns.histplot(titanic_df, x='Age', kde=True, binwidth=5, color='purple')"
   ]
  },
  {
   "cell_type": "markdown",
   "metadata": {},
   "source": [
    "Since the bindwith is 5, it can clearly be said that the most common age group was 15-45 abroad the Titanic. Observing the age distribution and considering the fact that the Titanic incident occured in 1912, its passengers were most likely to be from working-class, generally.\n",
    "\n",
    "Also, relatively high valued 0-5 range can be interpreted as the Titanic was also used in family transportation since clearly, no baby can travel by itself. "
   ]
  },
  {
   "cell_type": "markdown",
   "metadata": {},
   "source": [
    "## Q3. Using a pie chart, illustrate the embarkation points for Titanic passengers. Identify the port with the highest boarding. Analyze the age and sex distribution from this port. Does this distribution reflect the \"women and children first\" evacuation policy?"
   ]
  },
  {
   "cell_type": "code",
   "execution_count": 28,
   "metadata": {},
   "outputs": [
    {
     "data": {
      "text/plain": [
       "([<matplotlib.patches.Wedge at 0x1c6542fdcd0>,\n",
       "  <matplotlib.patches.Wedge at 0x1c67791dc10>,\n",
       "  <matplotlib.patches.Wedge at 0x1c677924550>],\n",
       " [Text(1.0047769934806399, 0.4476864900485679, 'C'),\n",
       "  Text(0.31016951767675205, 1.0553648043705888, 'Q'),\n",
       "  Text(-0.924531747842561, -0.7650104883144933, 'S')],\n",
       " [Text(0.6394035413058616, 0.28489140275817953, '18.9%'),\n",
       "  Text(0.19738060215793307, 0.6715957845994655, '8.7%'),\n",
       "  Text(-0.6163544985617071, -0.5100069922096622, '72.4%')])"
      ]
     },
     "execution_count": 28,
     "metadata": {},
     "output_type": "execute_result"
    },
    {
     "data": {
      "image/png": "[encoded data removed]",
      "text/plain": [
       "<Figure size 640x480 with 1 Axes>"
      ]
     },
     "metadata": {},
     "output_type": "display_data"
    }
   ],
   "source": [
    "embarkation = titanic_df.groupby('Embarked')['PassengerId'].count()\n",
    "embarkation = dict(embarkation)\n",
    "plt.pie(embarkation.values(), labels=embarkation.keys(), autopct='%1.1f%%', shadow=True, colors=['lightblue', 'pink', 'purple'], pctdistance=.7, explode=[0, 0, .1], startangle=350)"
   ]
  },
  {
   "cell_type": "markdown",
   "metadata": {},
   "source": [
    "It is clearly seen that the port S was the most used one. So, let's examine the stats of this port a bit deeper."
   ]
  },
  {
   "cell_type": "code",
   "execution_count": 29,
   "metadata": {},
   "outputs": [
    {
     "data": {
      "text/plain": [
       "<AxesSubplot: xlabel='Age', ylabel='Count'>"
      ]
     },
     "execution_count": 29,
     "metadata": {},
     "output_type": "execute_result"
    },
    {
     "data": {
      "image/png": "[encoded data removed]",
      "text/plain": [
       "<Figure size 640x480 with 1 Axes>"
      ]
     },
     "metadata": {},
     "output_type": "display_data"
    }
   ],
   "source": [
    "sex = titanic_df[titanic['Embarked'] == 'S']\n",
    "sex = sex[['Sex', 'Age']]\n",
    "sns.histplot(sex, x='Age', hue='Sex', multiple='stack', binwidth=5)"
   ]
  },
  {
   "cell_type": "markdown",
   "metadata": {},
   "source": [
    "We cannot say if the \"women and children first\" policy was applied because this data only gives us the distribution of the evacuated people based on their ages and genders. We can clearly say that men and working class is dominant but it does not give us any clue about the order of the evacuation. \n",
    "\n",
    "Since there are more of the working class passengers (it can be seen in the plot of Q2) it is completely understandable to have an age distribution like this in any of those embarkment points."
   ]
  },
  {
   "cell_type": "code",
   "execution_count": 30,
   "metadata": {},
   "outputs": [
    {
     "data": {
      "text/plain": [
       "([<matplotlib.patches.Wedge at 0x1c6779e6210>,\n",
       "  <matplotlib.patches.Wedge at 0x1c677a27190>],\n",
       " [Text(-0.9838646807152013, -0.4919454136803953, 'Male'),\n",
       "  Text(1.046474202315867, 0.5232511288925903, 'Female')],\n",
       " [Text(-0.6260957059096735, -0.3130561723420697, '64.8%'),\n",
       "  Text(0.6887052442591602, 0.3443618540575167, '35.2%')])"
      ]
     },
     "execution_count": 30,
     "metadata": {},
     "output_type": "execute_result"
    },
    {
     "data": {
      "image/png": "[encoded data removed]",
      "text/plain": [
       "<Figure size 640x480 with 1 Axes>"
      ]
     },
     "metadata": {},
     "output_type": "display_data"
    }
   ],
   "source": [
    "plt.pie(titanic_df.value_counts('Sex'), labels=['Male', 'Female'], autopct='%1.1f%%', shadow=True, colors=['lightblue', 'pink'], pctdistance=.7, explode=[0, .07], startangle=90)"
   ]
  },
  {
   "cell_type": "markdown",
   "metadata": {},
   "source": [
    "And if we were to examine the sex distribution of the Titanic, we can observe that the men were always the dominant sex. "
   ]
  },
  {
   "cell_type": "code",
   "execution_count": 31,
   "metadata": {},
   "outputs": [
    {
     "data": {
      "text/plain": [
       "([<matplotlib.patches.Wedge at 0x1c677a56a90>,\n",
       "  <matplotlib.patches.Wedge at 0x1c677a82c90>],\n",
       " [Text(-0.9198003072098782, -0.6032971033053398, 'Male'),\n",
       "  Text(0.978332993953085, 0.6416888287501918, 'Female')],\n",
       " [Text(-0.5853274682244679, -0.3839163384670343, '68.5%'),\n",
       "  Text(0.6438601755075858, 0.4223080325962801, '31.5%')])"
      ]
     },
     "execution_count": 31,
     "metadata": {},
     "output_type": "execute_result"
    },
    {
     "data": {
      "image/png": "[encoded data removed]",
      "text/plain": [
       "<Figure size 640x480 with 1 Axes>"
      ]
     },
     "metadata": {},
     "output_type": "display_data"
    }
   ],
   "source": [
    "plt.pie(sex.value_counts('Sex'), labels=['Male', 'Female'], autopct='%1.1f%%', shadow=True, colors=['lightblue', 'pink'], pctdistance=.7, explode=[0, .07], startangle=90)"
   ]
  },
  {
   "cell_type": "markdown",
   "metadata": {},
   "source": [
    "And it changes **slightly** in the S embarkment point. So slight that this change does not tell us anything."
   ]
  },
  {
   "cell_type": "code",
   "execution_count": 32,
   "metadata": {},
   "outputs": [
    {
     "name": "stdout",
     "output_type": "stream",
     "text": [
      "There were 891 passengers on the Titanic and 2 of them did/could not reach the embarkment points.\n"
     ]
    }
   ],
   "source": [
    "print(f\"There were {titanic_df[['PassengerId']].size} passengers on the Titanic and {titanic_df[['Embarked']].isnull().sum().iloc[0]} of them did/could not reach the embarkment points.\")"
   ]
  },
  {
   "cell_type": "markdown",
   "metadata": {},
   "source": [
    "*There were 891 passengers on the Titanic and 2 of them did/could not reach the embarkment points.*\n",
    "\n",
    "We might be able to say anything about the priority policy but only 2 passengers did/could not made it to the embarkment points. This number is both so small to make an assumption with it and would not even matter eitherway, since it is impossible to know if those passengers were not able to make it or just could not, because of some faulty priority policy."
   ]
  },
  {
   "cell_type": "markdown",
   "metadata": {},
   "source": [
    "## Q4. Create a scatter plot comparing age and fare. Comment on any correlations or patterns you observe."
   ]
  },
  {
   "cell_type": "code",
   "execution_count": 33,
   "metadata": {},
   "outputs": [
    {
     "data": {
      "text/plain": [
       "<AxesSubplot: xlabel='Age', ylabel='Fare'>"
      ]
     },
     "execution_count": 33,
     "metadata": {},
     "output_type": "execute_result"
    },
    {
     "data": {
      "image/png": "[encoded data removed]",
      "text/plain": [
       "<Figure size 640x480 with 1 Axes>"
      ]
     },
     "metadata": {},
     "output_type": "display_data"
    }
   ],
   "source": [
    "sns.scatterplot(titanic_df, x='Age', y='Fare', hue='Fare', palette='viridis')"
   ]
  },
  {
   "cell_type": "markdown",
   "metadata": {},
   "source": [
    "At first glance, this scatter plot may seem uninformative but digging deeper, we might come to some important conclusions. For example, same fares for close age values may indicate to a couple, bought the same kind of tickets. Or, let's examine the most expensive tickets. We cannot read the actual value of it but we know it is greater than 500. So, let's work with it."
   ]
  },
  {
   "cell_type": "code",
   "execution_count": 34,
   "metadata": {},
   "outputs": [
    {
     "data": {
      "text/html": [
       "<div>\n",
       "<style scoped>\n",
       "    .dataframe tbody tr th:only-of-type {\n",
       "        vertical-align: middle;\n",
       "    }\n",
       "\n",
       "    .dataframe tbody tr th {\n",
       "        vertical-align: top;\n",
       "    }\n",
       "\n",
       "    .dataframe thead th {\n",
       "        text-align: right;\n",
       "    }\n",
       "</style>\n",
       "<table border=\"1\" class=\"dataframe\">\n",
       "  <thead>\n",
       "    <tr style=\"text-align: right;\">\n",
       "      <th></th>\n",
       "      <th>PassengerId</th>\n",
       "      <th>Survived</th>\n",
       "      <th>Pclass</th>\n",
       "      <th>Name</th>\n",
       "      <th>Sex</th>\n",
       "      <th>Age</th>\n",
       "      <th>SibSp</th>\n",
       "      <th>Parch</th>\n",
       "      <th>Ticket</th>\n",
       "      <th>Fare</th>\n",
       "      <th>Cabin</th>\n",
       "      <th>Embarked</th>\n",
       "    </tr>\n",
       "  </thead>\n",
       "  <tbody>\n",
       "    <tr>\n",
       "      <th>258</th>\n",
       "      <td>259</td>\n",
       "      <td>1</td>\n",
       "      <td>1</td>\n",
       "      <td>Ward, Miss. Anna</td>\n",
       "      <td>female</td>\n",
       "      <td>35.0</td>\n",
       "      <td>0</td>\n",
       "      <td>0</td>\n",
       "      <td>PC 17755</td>\n",
       "      <td>512.3292</td>\n",
       "      <td>NaN</td>\n",
       "      <td>C</td>\n",
       "    </tr>\n",
       "    <tr>\n",
       "      <th>679</th>\n",
       "      <td>680</td>\n",
       "      <td>1</td>\n",
       "      <td>1</td>\n",
       "      <td>Cardeza, Mr. Thomas Drake Martinez</td>\n",
       "      <td>male</td>\n",
       "      <td>36.0</td>\n",
       "      <td>0</td>\n",
       "      <td>1</td>\n",
       "      <td>PC 17755</td>\n",
       "      <td>512.3292</td>\n",
       "      <td>B51 B53 B55</td>\n",
       "      <td>C</td>\n",
       "    </tr>\n",
       "    <tr>\n",
       "      <th>737</th>\n",
       "      <td>738</td>\n",
       "      <td>1</td>\n",
       "      <td>1</td>\n",
       "      <td>Lesurer, Mr. Gustave J</td>\n",
       "      <td>male</td>\n",
       "      <td>35.0</td>\n",
       "      <td>0</td>\n",
       "      <td>0</td>\n",
       "      <td>PC 17755</td>\n",
       "      <td>512.3292</td>\n",
       "      <td>B101</td>\n",
       "      <td>C</td>\n",
       "    </tr>\n",
       "  </tbody>\n",
       "</table>\n",
       "</div>"
      ],
      "text/plain": [
       "     PassengerId  Survived  Pclass                                Name  \\\n",
       "258          259         1       1                    Ward, Miss. Anna   \n",
       "679          680         1       1  Cardeza, Mr. Thomas Drake Martinez   \n",
       "737          738         1       1              Lesurer, Mr. Gustave J   \n",
       "\n",
       "        Sex   Age  SibSp  Parch    Ticket      Fare        Cabin Embarked  \n",
       "258  female  35.0      0      0  PC 17755  512.3292          NaN        C  \n",
       "679    male  36.0      0      1  PC 17755  512.3292  B51 B53 B55        C  \n",
       "737    male  35.0      0      0  PC 17755  512.3292         B101        C  "
      ]
     },
     "execution_count": 34,
     "metadata": {},
     "output_type": "execute_result"
    }
   ],
   "source": [
    "richest = titanic_df[titanic_df['Fare'] > 500]\n",
    "richest"
   ]
  },
  {
   "cell_type": "markdown",
   "metadata": {},
   "source": [
    "Interesting, there are 3 passengers with the most expensive tickets, which happens to be the same ticket actually. Those names may seem unrelated but when we do a bit of research, we learn that both Annie Moore Ward and Louis Gustave Joseph Lesueur were working for Thomas Cardeza, who -unsurprisingly- also has the same ticket number.\n",
    "\n",
    "Therefore, those correlations may not be about the SES (socio-economic status) all the time but they sure give valuable info if you know how to interpret them."
   ]
  },
  {
   "cell_type": "markdown",
   "metadata": {},
   "source": [
    "## Q5. Group the dataset by 'Embarked' and 'Pclass' and visualize the mean fare for each combination using a bar chart. Comment on the fare differences based on embarkation ports and classes.\n"
   ]
  },
  {
   "cell_type": "code",
   "execution_count": 35,
   "metadata": {},
   "outputs": [
    {
     "data": {
      "text/plain": [
       "<AxesSubplot: xlabel='Embarked', ylabel='Fare'>"
      ]
     },
     "execution_count": 35,
     "metadata": {},
     "output_type": "execute_result"
    },
    {
     "data": {
      "image/png": "[encoded data removed]",
      "text/plain": [
       "<Figure size 640x480 with 1 Axes>"
      ]
     },
     "metadata": {},
     "output_type": "display_data"
    }
   ],
   "source": [
    "grouped = pd.DataFrame(titanic_df.groupby(['Embarked', 'Pclass'])['Fare'].mean())\n",
    "sns.barplot(grouped, x='Embarked', y='Fare', hue='Pclass', palette='cool_r')"
   ]
  },
  {
   "cell_type": "markdown",
   "metadata": {},
   "source": [
    "As the class gets better and better, fare increases, that is expected. Going from class 3 to 2, there is little to no change actually. But from 2 to 1, there is a tremendous increase in terms of fare. Same kind of application can be seen in today's travel options too, it's nothing unexpected.\n",
    "\n",
    "Embarkation points do not really make that much of a difference, it seems. At least when compared to the dramatic jump of the Pclass 2 -> Pclass 1 direction. Order, location etc. of those embarkation points may have some affects on the fare but we cannot directly say that using only the data we are given.  "
   ]
  },
  {
   "cell_type": "markdown",
   "metadata": {},
   "source": [
    "# PLAGIARISM POLICY\n",
    "\n",
    "In the interest of maintaining a fair and honest academic environment, this course strictly adheres to a zero-tolerance policy regarding plagiarism. \n",
    "Accordingly, all assignments must reflect individual effort and understanding. While abstract discussions with peers about concepts are encouraged, sharing or copying specific solutions, code, or pseudocode is not permitted and will be treated as plagiarism. This policy includes work sourced from the internet, publications, and AI tools like ChatGPT and GitHub Copilot. **USE THEM RESPONSIBLY**. For example, you can utilize them to enhance understanding and support your original work, not to replace it. Submitting work that is not entirely your own creation will be regarded as a violation of academic integrity. It is vital to use all resources, including AI, in a manner that supports your educational development without compromising the principles of academic honesty. \n",
    "\n",
    "If in doubt, do not hesitate to seek guidance from the course staff - we are here to help, with an aim to foster a learning environment based on trust, respect, and responsibility.\n"
   ]
  },
  {
   "cell_type": "markdown",
   "metadata": {},
   "source": [
    "# REFERENCES\n",
    "[1] Kaggle. (2023). Titanic: Machine Learning from Disaster [Data set]. Kaggle Inc. https://www.kaggle.com/c/titanic/data"
   ]
  },
  {
   "cell_type": "markdown",
   "metadata": {},
   "source": [
    "# ACKNOWLEDGMENTS\n",
    "\n",
    "• The design and development of this homework have been assisted by AI tools, with a special mention to ChatGPT for its assistance in conceptualizing the assignment and refining the wording. \n"
   ]
  }
 ],
 "metadata": {
  "kernelspec": {
   "display_name": "Python 3",
   "language": "python",
   "name": "python3"
  },
  "language_info": {
   "codemirror_mode": {
    "name": "ipython",
    "version": 3
   },
   "file_extension": ".py",
   "mimetype": "text/x-python",
   "name": "python",
   "nbconvert_exporter": "python",
   "pygments_lexer": "ipython3",
   "version": "3.11.1"
  }
 },
 "nbformat": 4,
 "nbformat_minor": 2
}
